{
 "cells": [
  {
   "cell_type": "code",
   "execution_count": 5,
   "id": "1fd29639",
   "metadata": {},
   "outputs": [],
   "source": [
    "from langchain.schema import Document"
   ]
  },
  {
   "cell_type": "code",
   "execution_count": 6,
   "id": "e2802fbf",
   "metadata": {},
   "outputs": [],
   "source": [
    "from langchain.vectorstores import Chroma"
   ]
  },
  {
   "cell_type": "code",
   "execution_count": 7,
   "id": "9a555d83",
   "metadata": {},
   "outputs": [],
   "source": [
    "from langchain_ollama.embeddings import OllamaEmbeddings"
   ]
  },
  {
   "cell_type": "code",
   "execution_count": null,
   "id": "8f614bbb",
   "metadata": {},
   "outputs": [],
   "source": [
    "doc1 = Document(page_content=\"Virat Kohli (Batsman, Former Captain): Scored 8 centuries in 2024, ranking among the top Test and ODI batsmen globally.\",\n",
    "                metadata={\"role\":\"Bowler\"})"
   ]
  },
  {
   "cell_type": "code",
   "execution_count": 9,
   "id": "198a0b67",
   "metadata": {},
   "outputs": [],
   "source": [
    "doc2 = Document(page_content=\"Rohit Sharma (Batsman, ODI/Test Captain): Led India to the 2024 T20 World Cup victory, ranked third in ICC ODI batting rankings\",\n",
    "                metadata={\"role\":\"Batsman, ODI/Test Captain\"})"
   ]
  },
  {
   "cell_type": "code",
   "execution_count": 10,
   "id": "7f6c587e",
   "metadata": {},
   "outputs": [],
   "source": [
    "doc3 = Document(page_content=\"Jasprit Bumrah (Bowler): Top-ranked Test bowler, leading India’s pace attack with 6/70 in the 2025 England Test series.\",\n",
    "                metadata={\"role\":\"(Bowler)\"})"
   ]
  },
  {
   "cell_type": "code",
   "execution_count": 11,
   "id": "5a411b68",
   "metadata": {},
   "outputs": [],
   "source": [
    "docs=[doc1,doc2,doc3]"
   ]
  },
  {
   "cell_type": "code",
   "execution_count": 12,
   "id": "97d523b0",
   "metadata": {},
   "outputs": [
    {
     "name": "stderr",
     "output_type": "stream",
     "text": [
      "C:\\Users\\SR43993\\AppData\\Local\\Temp\\ipykernel_22244\\3164047253.py:1: LangChainDeprecationWarning: The class `Chroma` was deprecated in LangChain 0.2.9 and will be removed in 1.0. An updated version of the class exists in the :class:`~langchain-chroma package and should be used instead. To use it run `pip install -U :class:`~langchain-chroma` and import as `from :class:`~langchain_chroma import Chroma``.\n",
      "  vector_store =Chroma(\n"
     ]
    }
   ],
   "source": [
    "vector_store =Chroma(\n",
    "   embedding_function=OllamaEmbeddings(model=\"granite-embedding:latest\"),\n",
    "   persist_directory=\"my_chroma_db\",\n",
    "   collection_name=\"sample\"\n",
    ")"
   ]
  },
  {
   "cell_type": "code",
   "execution_count": 20,
   "id": "17d17a2d",
   "metadata": {},
   "outputs": [
    {
     "data": {
      "text/plain": [
       "[Document(metadata={'role': '(Bowler)'}, page_content='Jasprit Bumrah (Bowler): Top-ranked Test bowler, leading India’s pace attack with 6/70 in the 2025 England Test series.'),\n",
       " Document(metadata={'role': '(Bowler)'}, page_content='Jasprit Bumrah (Bowler): Top-ranked Test bowler, leading India’s pace attack with 6/70 in the 2025 England Test series.')]"
      ]
     },
     "execution_count": 20,
     "metadata": {},
     "output_type": "execute_result"
    }
   ],
   "source": [
    "vector_store.similarity_search(\n",
    "    query=\"Who among are the top bowlers\",\n",
    "    k=2\n",
    ")"
   ]
  },
  {
   "cell_type": "code",
   "execution_count": 16,
   "id": "84d520c8",
   "metadata": {},
   "outputs": [
    {
     "data": {
      "text/plain": [
       "['fe6c3453-975e-43a8-a4be-b4da64e5492c',\n",
       " 'b087ca0b-2154-4378-96a0-ccf4a087a2be',\n",
       " '802b88d2-8849-4fa7-83ea-0f848489bd9e']"
      ]
     },
     "execution_count": 16,
     "metadata": {},
     "output_type": "execute_result"
    }
   ],
   "source": [
    "vector_store.add_documents(docs)"
   ]
  },
  {
   "cell_type": "code",
   "execution_count": 17,
   "id": "1611eec7",
   "metadata": {},
   "outputs": [
    {
     "data": {
      "text/plain": [
       "{'ids': ['d2277f2b-f437-4a9e-874f-7f5daa6fbba3',\n",
       "  '6b0cfb0a-7a61-4a66-af89-a3cf562a60b4',\n",
       "  '61b1bdac-991f-466b-bb99-f301794d2cf0',\n",
       "  'fe6c3453-975e-43a8-a4be-b4da64e5492c',\n",
       "  'b087ca0b-2154-4378-96a0-ccf4a087a2be',\n",
       "  '802b88d2-8849-4fa7-83ea-0f848489bd9e'],\n",
       " 'embeddings': array([[-0.06681802,  0.0433434 , -0.03207217, ..., -0.00888443,\n",
       "         -0.20114835,  0.04152339],\n",
       "        [-0.01794345, -0.01206979, -0.03552095, ...,  0.02271054,\n",
       "         -0.16851369,  0.06533858],\n",
       "        [-0.05643566,  0.01129285, -0.04525478, ...,  0.02857568,\n",
       "         -0.14442395,  0.06133389],\n",
       "        [-0.06681802,  0.0433434 , -0.03207217, ..., -0.00888443,\n",
       "         -0.20114835,  0.04152339],\n",
       "        [-0.01794345, -0.01206979, -0.03552095, ...,  0.02271054,\n",
       "         -0.16851369,  0.06533858],\n",
       "        [-0.05643566,  0.01129285, -0.04525478, ...,  0.02857568,\n",
       "         -0.14442395,  0.06133389]], shape=(6, 384)),\n",
       " 'documents': ['Virat Kohli (Batsman, Former Captain): Scored 8 centuries in 2024, ranking among the top Test and ODI batsmen globally.',\n",
       "  'Rohit Sharma (Batsman, ODI/Test Captain): Led India to the 2024 T20 World Cup victory, ranked third in ICC ODI batting rankings',\n",
       "  'Jasprit Bumrah (Bowler): Top-ranked Test bowler, leading India’s pace attack with 6/70 in the 2025 England Test series.',\n",
       "  'Virat Kohli (Batsman, Former Captain): Scored 8 centuries in 2024, ranking among the top Test and ODI batsmen globally.',\n",
       "  'Rohit Sharma (Batsman, ODI/Test Captain): Led India to the 2024 T20 World Cup victory, ranked third in ICC ODI batting rankings',\n",
       "  'Jasprit Bumrah (Bowler): Top-ranked Test bowler, leading India’s pace attack with 6/70 in the 2025 England Test series.'],\n",
       " 'uris': None,\n",
       " 'included': ['embeddings', 'documents', 'metadatas'],\n",
       " 'data': None,\n",
       " 'metadatas': [{'role': 'Batsman, Former Captain'},\n",
       "  {'role': 'Batsman, ODI/Test Captain'},\n",
       "  {'role': '(Bowler)'},\n",
       "  {'role': 'Batsman, Former Captain'},\n",
       "  {'role': 'Batsman, ODI/Test Captain'},\n",
       "  {'role': '(Bowler)'}]}"
      ]
     },
     "execution_count": 17,
     "metadata": {},
     "output_type": "execute_result"
    }
   ],
   "source": [
    "vector_store.get(include=[\"embeddings\",\"documents\",\"metadatas\"])"
   ]
  }
 ],
 "metadata": {
  "kernelspec": {
   "display_name": ".venv",
   "language": "python",
   "name": "python3"
  },
  "language_info": {
   "codemirror_mode": {
    "name": "ipython",
    "version": 3
   },
   "file_extension": ".py",
   "mimetype": "text/x-python",
   "name": "python",
   "nbconvert_exporter": "python",
   "pygments_lexer": "ipython3",
   "version": "3.10.11"
  }
 },
 "nbformat": 4,
 "nbformat_minor": 5
}
