{
 "cells": [
  {
   "cell_type": "code",
   "execution_count": 2,
   "id": "1fd29639",
   "metadata": {},
   "outputs": [],
   "source": [
    "from langchain.schema import Document"
   ]
  },
  {
   "cell_type": "code",
   "execution_count": 3,
   "id": "e2802fbf",
   "metadata": {},
   "outputs": [],
   "source": [
    "from langchain_chroma import Chroma"
   ]
  },
  {
   "cell_type": "code",
   "execution_count": 4,
   "id": "9a555d83",
   "metadata": {},
   "outputs": [],
   "source": [
    "from langchain_ollama.embeddings import OllamaEmbeddings"
   ]
  },
  {
   "cell_type": "code",
   "execution_count": 5,
   "id": "7d437385",
   "metadata": {},
   "outputs": [],
   "source": [
    "from langchain_ollama import ChatOllama"
   ]
  },
  {
   "cell_type": "code",
   "execution_count": 6,
   "id": "d3118cdc",
   "metadata": {},
   "outputs": [],
   "source": [
    "from langchain.chains import RetrievalQA"
   ]
  },
  {
   "cell_type": "code",
   "execution_count": 8,
   "id": "d31c1358",
   "metadata": {},
   "outputs": [],
   "source": [
    "from langchain.prompts import PromptTemplate"
   ]
  },
  {
   "cell_type": "code",
   "execution_count": 9,
   "id": "8f614bbb",
   "metadata": {},
   "outputs": [],
   "source": [
    "doc1 = Document(page_content=\"Virat Kohli (Batsman, Former Captain): Scored 8 centuries in 2024, ranking among the top Test and ODI batsmen globally.\",\n",
    "                metadata={\"role\":\"Batsman, Former Captain\"})"
   ]
  },
  {
   "cell_type": "code",
   "execution_count": 10,
   "id": "198a0b67",
   "metadata": {},
   "outputs": [],
   "source": [
    "doc2 = Document(page_content=\"Rohit Sharma (Batsman, ODI/Test Captain): Led India to the 2024 T20 World Cup victory, ranked third in ICC ODI batting rankings\",\n",
    "                metadata={\"role\":\"Batsman, ODI/Test Captain\"})"
   ]
  },
  {
   "cell_type": "code",
   "execution_count": 11,
   "id": "7f6c587e",
   "metadata": {},
   "outputs": [],
   "source": [
    "doc3 = Document(page_content=\"Jasprit Bumrah (Bowler): Top-ranked Test bowler, leading India’s pace attack with 6/70 in the 2025 England Test series.\",\n",
    "                metadata={\"role\":\"(Bowler)\"})"
   ]
  },
  {
   "cell_type": "code",
   "execution_count": 12,
   "id": "5a411b68",
   "metadata": {},
   "outputs": [],
   "source": [
    "docs=[doc1,doc2,doc3]"
   ]
  },
  {
   "cell_type": "code",
   "execution_count": 13,
   "id": "97d523b0",
   "metadata": {},
   "outputs": [],
   "source": [
    "vector_store =Chroma(\n",
    "   embedding_function=OllamaEmbeddings(model=\"granite-embedding:latest\"),\n",
    "   persist_directory=\"my_chroma_db\",\n",
    "   collection_name=\"sample\"\n",
    ")"
   ]
  },
  {
   "cell_type": "code",
   "execution_count": 14,
   "id": "84d520c8",
   "metadata": {},
   "outputs": [
    {
     "data": {
      "text/plain": [
       "['bda01f45-9ed6-449c-95db-00dafced05f5',\n",
       " '65848990-f59d-4cec-9965-9dfc9c264f40',\n",
       " 'd0689b05-fc31-4f94-b038-4321d78ad30a']"
      ]
     },
     "execution_count": 14,
     "metadata": {},
     "output_type": "execute_result"
    }
   ],
   "source": [
    "vector_store.add_documents(docs)"
   ]
  },
  {
   "cell_type": "code",
   "execution_count": null,
   "id": "1611eec7",
   "metadata": {},
   "outputs": [],
   "source": [
    "vector_store.get(include=[\"embeddings\",\"documents\",\"metadatas\"])"
   ]
  },
  {
   "cell_type": "code",
   "execution_count": 15,
   "id": "7a96c4bf",
   "metadata": {},
   "outputs": [],
   "source": [
    "llm = ChatOllama(model=\"llama3.2:latest\")"
   ]
  },
  {
   "cell_type": "code",
   "execution_count": 16,
   "id": "7d16295e",
   "metadata": {},
   "outputs": [],
   "source": [
    "prompt_template = \"\"\"\n",
    "\n",
    "You are a cricket expert. Answer the question based on the provided context.\n",
    "Context: {context}\n",
    "\n",
    "Question: {question}\n",
    "\n",
    "Answer:\n",
    "\n",
    "\"\"\""
   ]
  },
  {
   "cell_type": "code",
   "execution_count": 17,
   "id": "f9f5782a",
   "metadata": {},
   "outputs": [],
   "source": [
    "prompt = PromptTemplate(template=prompt_template, input_variables=[\"context\", \"question\"])"
   ]
  },
  {
   "cell_type": "code",
   "execution_count": 24,
   "id": "d7d55bca",
   "metadata": {},
   "outputs": [],
   "source": [
    "qa_chain = RetrievalQA.from_chain_type(\n",
    "    llm=llm,\n",
    "    chain_type=\"stuff\",\n",
    "    retriever=vector_store.as_retriever(),\n",
    "    return_source_documents=True,\n",
    "    chain_type_kwargs={\"prompt\": prompt}\n",
    ")"
   ]
  },
  {
   "cell_type": "code",
   "execution_count": 25,
   "id": "b083c01e",
   "metadata": {},
   "outputs": [],
   "source": [
    "query = \"Who among are the top bowlers?\""
   ]
  },
  {
   "cell_type": "code",
   "execution_count": 26,
   "id": "ea0bb949",
   "metadata": {},
   "outputs": [],
   "source": [
    "result = qa_chain.invoke({\"query\": query})"
   ]
  },
  {
   "cell_type": "code",
   "execution_count": null,
   "id": "963a271c",
   "metadata": {},
   "outputs": [
    {
     "name": "stdout",
     "output_type": "stream",
     "text": [
      "Answer: Based on the provided context, Jasprit Bumrah is currently considered the top-ranked Test bowler.\n",
      " \n",
      " Document used : Jasprit Bumrah (Bowler): Top-ranked Test bowler, leading India’s pace attack with 6/70 in the 2025 England Test series.\n"
     ]
    }
   ],
   "source": [
    "print(\"Answer:\", result['result'])\n",
    "print(\" \\nDocument used :\", result['source_documents'][0].page_content)"
   ]
  }
 ],
 "metadata": {
  "kernelspec": {
   "display_name": ".venv",
   "language": "python",
   "name": "python3"
  },
  "language_info": {
   "codemirror_mode": {
    "name": "ipython",
    "version": 3
   },
   "file_extension": ".py",
   "mimetype": "text/x-python",
   "name": "python",
   "nbconvert_exporter": "python",
   "pygments_lexer": "ipython3",
   "version": "3.10.11"
  }
 },
 "nbformat": 4,
 "nbformat_minor": 5
}
